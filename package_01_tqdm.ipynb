{
  "nbformat": 4,
  "nbformat_minor": 0,
  "metadata": {
    "colab": {
      "provenance": [],
      "authorship_tag": "ABX9TyPbHor3bcfmLzzQdD1D4+Aa",
      "include_colab_link": true
    },
    "kernelspec": {
      "name": "python3",
      "display_name": "Python 3"
    },
    "language_info": {
      "name": "python"
    }
  },
  "cells": [
    {
      "cell_type": "markdown",
      "metadata": {
        "id": "view-in-github",
        "colab_type": "text"
      },
      "source": [
        "<a href=\"https://colab.research.google.com/github/ik4Rus/blog/blob/master/package_01_tqdm.ipynb\" target=\"_parent\"><img src=\"https://colab.research.google.com/assets/colab-badge.svg\" alt=\"Open In Colab\"/></a>"
      ]
    },
    {
      "cell_type": "markdown",
      "source": [
        "# Python Packages to Try 1: Python Progress Bars Made Easy with tqdm\n",
        "\n",
        "- **Twitter**: Improve your Python coding with progress bars for loops and functions using the 'tqdm' package! Check out our latest blog post to learn how <bloglink> #Python #codingtips #tqdm\n",
        "- **LinkedIn**: Do you want to improve your Python coding skills and make your long-running scripts more efficient? Check out my latest blog post on the \"tqdm\" package, which provides a simple way to create progress bars for loops and functions in Python.\n",
        "The article introduces how to install the \"tqdm\" package and presents a problem statement related to long-running loops. I also explain how to use \"tqdm\" to create progress bars with customizable parameters, and explore some additional use cases for the package, including progress bars for nested loops, file reading, and function calls.\n",
        "By using \"tqdm\" in your Python projects, you can better understand the progress of long-running operations and communicate that progress to others on the project. Check out the article here <bloglink> and take your Python coding to the next level! #Python #codingtips #tqdm"
      ],
      "metadata": {
        "id": "pNF1bNjJ4Yz3"
      }
    },
    {
      "cell_type": "markdown",
      "source": [
        "## Introduction: tqdm - Progress bars for loops and functions\n",
        "\n",
        "\"tqdm\" is a Python library that allows developers to add progress bars to their loops and functions. It's a simple and easy-to-use library that can make your code more user-friendly and understandable.\n",
        "\n",
        "To install \"tqdm,\" we can use pip:"
      ],
      "metadata": {
        "id": "F3QAa9XWzACZ"
      }
    },
    {
      "cell_type": "code",
      "execution_count": 1,
      "metadata": {
        "colab": {
          "base_uri": "https://localhost:8080/"
        },
        "id": "7EgKxz3py4hZ",
        "outputId": "4d0ac2dd-1807-45a3-fdb2-94fe15a34b59"
      },
      "outputs": [
        {
          "output_type": "stream",
          "name": "stdout",
          "text": [
            "Looking in indexes: https://pypi.org/simple, https://us-python.pkg.dev/colab-wheels/public/simple/\n",
            "Requirement already satisfied: tqdm in /usr/local/lib/python3.8/dist-packages (4.64.1)\n"
          ]
        }
      ],
      "source": [
        "pip install tqdm"
      ]
    },
    {
      "cell_type": "markdown",
      "source": [
        "Once installed, we can begin using \"tqdm\" in our Python scripts. In the next section, we'll explore a specific problem or challenge related to Python programming that \"tqdm\" can help us solve."
      ],
      "metadata": {
        "id": "nrZgK3tKzAVz"
      }
    },
    {
      "cell_type": "markdown",
      "source": [
        "## Problem: Long running loops and functions\n",
        "\n",
        "As Python developers, we often find ourselves writing loops that take a long time to execute. During such times, we might not know how long the code will take to complete, leaving us feeling uncertain and frustrated.\n",
        "\n",
        "It can also be challenging to communicate the progress of a long-running loop or function to other developers working on the project. In these scenarios, progress bars can be incredibly helpful. They provide us with a visual representation of how far the loop has progressed and how much time is remaining until completion.\n",
        "\n",
        "Consider the following loop:"
      ],
      "metadata": {
        "id": "g3yJLv8Azb00"
      }
    },
    {
      "cell_type": "code",
      "source": [
        "import time\n",
        "\n",
        "for i in range(100):\n",
        "    time.sleep(0.1)"
      ],
      "metadata": {
        "id": "BGqItCJQ0SEc"
      },
      "execution_count": 2,
      "outputs": []
    },
    {
      "cell_type": "markdown",
      "source": [
        "This code creates a simple loop that runs 100 times and adds a time delay of 0.1 seconds using \"time.sleep(0.1)\". While the code is running, we don't have any visual indication of the progress being made, nor do we have any idea of the time remaining for the loop to complete."
      ],
      "metadata": {
        "id": "ru5H9nD50Y_P"
      }
    },
    {
      "cell_type": "markdown",
      "source": [
        "## Solution: Adding a progress bars the simple way\n",
        "\n",
        "To solve the problem of not having progress bars in our loops, we can use the \"tqdm\" package. This package allows us to create progress bars with just a few lines of code, making it much easier to understand the progress of a long-running loop.\n",
        "\n",
        "Here's an updated version of the previous code that includes a progress bar:"
      ],
      "metadata": {
        "id": "_VsxE-k906kg"
      }
    },
    {
      "cell_type": "code",
      "source": [
        "import time\n",
        "from tqdm import tqdm\n",
        "\n",
        "for i in tqdm(range(100)):\n",
        "    time.sleep(0.1)"
      ],
      "metadata": {
        "colab": {
          "base_uri": "https://localhost:8080/"
        },
        "id": "qL8Oder61CL3",
        "outputId": "6dc0f082-4ee1-4f68-a6eb-f63ed2b3719a"
      },
      "execution_count": 3,
      "outputs": [
        {
          "output_type": "stream",
          "name": "stderr",
          "text": [
            "100%|██████████| 100/100 [00:10<00:00,  9.83it/s]\n"
          ]
        }
      ]
    },
    {
      "cell_type": "markdown",
      "source": [
        "By adding \"tqdm\" to our loop, we can create a progress bar that shows the progress of the loop as it runs. We can customize the progress bar by using several parameters such as\n",
        "\n",
        "*   `desc`: Description of the progress bar (default: None)\n",
        "*   `total`: The number of iterations to run (default: None)\n",
        "*   `leave`: Whether or not to leave the progress bar displayed after completion (default: False)\n",
        "*   `position`: Position of the progress bar on the screen (default: None)\n",
        "*   `unit`: String that represents the unit of measurement being used (default: \"it\")\n",
        "*   `unit_scale`: Scale used for the unit (default: False)\n",
        "*   `ncols`: Width of the progress bar in characters (default: None)\n",
        "*   `mininterval`: Minimum time interval between updates to the progress bar (default: 0.1 seconds)\n",
        "*   `maxinterval`: Maximum time interval between updates to the progress bar (default: 10 seconds)\n",
        "*   `smoothing`: Smoothing factor for the progress bar (default: 0.3)\n",
        "*   `bar_format`: String that represents the format of the progress bar (default: \"{l_bar}{bar}|{n_fmt}/{total_fmt}[{elapsed}<{remaining},{rate_fmt}]\")\n",
        "\n",
        "Here's an example of adding a description and chaning our unit to make our bar more readable:"
      ],
      "metadata": {
        "id": "PRzOw51d1JuZ"
      }
    },
    {
      "cell_type": "code",
      "source": [
        "import time\n",
        "from tqdm import tqdm\n",
        "\n",
        "for i in tqdm(range(100), \n",
        "              desc='Processing of our sleep loop', \n",
        "              unit='sleep iteration'):\n",
        "    time.sleep(0.1)\n"
      ],
      "metadata": {
        "colab": {
          "base_uri": "https://localhost:8080/"
        },
        "id": "J5abVX6s1Q91",
        "outputId": "e0de1974-1ec0-487d-b541-e725b6258c38"
      },
      "execution_count": 6,
      "outputs": [
        {
          "output_type": "stream",
          "name": "stderr",
          "text": [
            "Processing of our sleep loop: 100%|██████████| 100/100 [00:10<00:00,  9.83sleep iteration/s]\n"
          ]
        }
      ]
    },
    {
      "cell_type": "markdown",
      "source": [
        "## Summary\n",
        "\n",
        "In this article, we introduced the \"tqdm\" package, which provides a simple way to create progress bars for loops and functions in Python. We discussed how to install the package, presented a problem statement related to long-running loops, and explained how to use \"tqdm\" to create progress bars with customizable parameters. We also explored some additional use cases for the package, including progress bars for nested loops, file reading, and function calls. By using \"tqdm\" in our Python projects, we can better understand the progress of long-running operations and communicate that progress to others on the project."
      ],
      "metadata": {
        "id": "c1X52IHk28Ti"
      }
    }
  ]
}