{
  "nbformat": 4,
  "nbformat_minor": 0,
  "metadata": {
    "colab": {
      "provenance": [],
      "toc_visible": true,
      "authorship_tag": "ABX9TyMuD/tvgDA05UMhudRcVl8I",
      "include_colab_link": true
    },
    "kernelspec": {
      "name": "python3",
      "display_name": "Python 3"
    },
    "language_info": {
      "name": "python"
    }
  },
  "cells": [
    {
      "cell_type": "markdown",
      "metadata": {
        "id": "view-in-github",
        "colab_type": "text"
      },
      "source": [
        "<a href=\"https://colab.research.google.com/github/ik4Rus/blog/blob/master/tip_01_operator_overloading_for_custom_classes.ipynb\" target=\"_parent\"><img src=\"https://colab.research.google.com/assets/colab-badge.svg\" alt=\"Open In Colab\"/></a>"
      ]
    },
    {
      "cell_type": "markdown",
      "source": [
        "# Advanced Python Tip 1: Operator Overloading for Custom Classes\n",
        "## Learn how to define custom behavior for operators and make your code more expressive and intuitive by overloading operators for your custom classes in Python.\n",
        "\n",
        "- **Twitter**: Take your Python programming skills to the next level with Advanced Python Tip 1: Custom Operator Overloading for Custom Classes! Learn how to make your code more expressive and intuitive by overloading operators for your custom classes. #Python #ProgrammingTips <blog_link>\n",
        "- **LinkedIn**: As Python developers, we often need to work with custom data types that go beyond the built-in types provided by the language. These custom data types may require custom behavior for the operators such as addition, multiplication, or comparison. Fortunately, Python allows us to define custom operator behavior for our custom classes, making our code more expressive and intuitive.\n",
        "In my latest blog post, I explore the topic of custom operator overloading for custom classes in Python. I explain how to define custom behavior for operators by overloading special methods in your custom classes. I also provide practical examples that demonstrate how custom operator overloading can simplify your code and improve its readability. Check out the blog post at <blog_link> and take your Python programming skills to the next level!\n",
        "\n"
      ],
      "metadata": {
        "id": "B-JsWqbitYHd"
      }
    },
    {
      "cell_type": "markdown",
      "source": [
        "## Introduction\n",
        "Python is a versatile programming language that offers numerous advanced features to developers. One of these features is custom operator overloading, which allows you to define the behavior of built-in operators for your custom classes. By doing so, you can create more intuitive and expressive code that closely resembles natural language, making it easier to read, write, and debug. In this blog post, we'll explore how to leverage custom operator overloading in Python and provide some real-world examples of how it can be used to improve your code."
      ],
      "metadata": {
        "id": "epYbA433mwk2"
      }
    },
    {
      "cell_type": "markdown",
      "source": [
        "## Problem Statement: When Built-in Operators Fail\n",
        "\n",
        "Python provides a rich set of built-in operators such as `+`, `-`, `*`, `/`, `>`, `<`, `==` etc., that work seamlessly with most built-in data types like integers, floats, strings, and lists. However, when it comes to working with custom classes, these operators may not behave as expected. For example, suppose you have a custom class representing a complex number and want to add two instances of this class using the `+` operator:"
      ],
      "metadata": {
        "id": "CnXol50Kmw5H"
      }
    },
    {
      "cell_type": "code",
      "source": [
        "class ComplexNumber:\n",
        "    def __init__(self, real, imag):\n",
        "        self.real = real\n",
        "        self.imag = imag\n",
        "\n",
        "c1 = ComplexNumber(1, 2)\n",
        "c2 = ComplexNumber(3, 4)\n",
        "result = c1 + c2"
      ],
      "metadata": {
        "colab": {
          "base_uri": "https://localhost:8080/",
          "height": 198
        },
        "id": "k9XXhCPznfEp",
        "outputId": "53eaf633-32f0-45c3-bd77-2269877eea6b"
      },
      "execution_count": null,
      "outputs": [
        {
          "output_type": "error",
          "ename": "TypeError",
          "evalue": "ignored",
          "traceback": [
            "\u001b[0;31m---------------------------------------------------------------------------\u001b[0m",
            "\u001b[0;31mTypeError\u001b[0m                                 Traceback (most recent call last)",
            "\u001b[0;32m<ipython-input-10-540744780a1c>\u001b[0m in \u001b[0;36m<module>\u001b[0;34m\u001b[0m\n\u001b[1;32m      6\u001b[0m \u001b[0mc1\u001b[0m \u001b[0;34m=\u001b[0m \u001b[0mComplexNumber\u001b[0m\u001b[0;34m(\u001b[0m\u001b[0;36m1\u001b[0m\u001b[0;34m,\u001b[0m \u001b[0;36m2\u001b[0m\u001b[0;34m)\u001b[0m\u001b[0;34m\u001b[0m\u001b[0;34m\u001b[0m\u001b[0m\n\u001b[1;32m      7\u001b[0m \u001b[0mc2\u001b[0m \u001b[0;34m=\u001b[0m \u001b[0mComplexNumber\u001b[0m\u001b[0;34m(\u001b[0m\u001b[0;36m3\u001b[0m\u001b[0;34m,\u001b[0m \u001b[0;36m4\u001b[0m\u001b[0;34m)\u001b[0m\u001b[0;34m\u001b[0m\u001b[0;34m\u001b[0m\u001b[0m\n\u001b[0;32m----> 8\u001b[0;31m \u001b[0mresult\u001b[0m \u001b[0;34m=\u001b[0m \u001b[0mc1\u001b[0m \u001b[0;34m+\u001b[0m \u001b[0mc2\u001b[0m\u001b[0;34m\u001b[0m\u001b[0;34m\u001b[0m\u001b[0m\n\u001b[0m",
            "\u001b[0;31mTypeError\u001b[0m: unsupported operand type(s) for +: 'ComplexNumber' and 'ComplexNumber'"
          ]
        }
      ]
    },
    {
      "cell_type": "markdown",
      "source": [
        "This code will raise a TypeError, indicating that the + operator is not defined for instances of the ComplexNumber class: `TypeError: unsupported operand type(s) for +: 'ComplexNumber' and 'ComplexNumber'`.\n",
        "This is because Python does not know how to add two ComplexNumber instances. To make this work, you need to provide a custom implementation of the `+` operator for your ComplexNumber class. In the next section, we'll see how to do this using custom operator overloading."
      ],
      "metadata": {
        "id": "3tVX_exCng06"
      }
    },
    {
      "cell_type": "markdown",
      "source": [
        "## Solution: Custom Operator Overloading\n",
        "Python allows you to define custom behavior for operators using a technique called operator overloading. With operator overloading, you can define what should happen when built-in operators are used on instances of your custom classes. To overload an operator, you need to implement a special method that corresponds to the operator in question.\n",
        "\n",
        "### Defining the add Method\n",
        "To add two instances of our ComplexNumber class, we need to define a custom implementation of the + operator. This is done by defining a special method named `__add__()` on our class. Here's how we can define the `__add__()` method for our ComplexNumber class:"
      ],
      "metadata": {
        "id": "iW4oTnZaqRo8"
      }
    },
    {
      "cell_type": "code",
      "source": [
        "class ComplexNumber:\n",
        "    def __init__(self, real, imag):\n",
        "        self.real = real\n",
        "        self.imag = imag\n",
        "\n",
        "    def __add__(self, other):\n",
        "        real = self.real + other.real\n",
        "        imag = self.imag + other.imag\n",
        "        return ComplexNumber(real, imag)"
      ],
      "metadata": {
        "id": "2XlefvIHqROg"
      },
      "execution_count": null,
      "outputs": []
    },
    {
      "cell_type": "markdown",
      "source": [
        "In this implementation, we define the `__add__()` method to take two arguments: self and other. self refers to the first instance of the ComplexNumber class (i.e., the one on which the `__add__()` method is called), while other refers to the second instance being added. We then perform the addition of the real and imaginary components separately, and return a new ComplexNumber instance with the result."
      ],
      "metadata": {
        "id": "cQOtATKkqdMJ"
      }
    },
    {
      "cell_type": "markdown",
      "source": [
        "### Using the Custom Implementation\n",
        "Now that we have defined the `__add__()` method, we can use the + operator to add two ComplexNumber instances. This code will now produce the expected result, which is a new instance of the ComplexNumber class with real component 4 and imaginary component 6."
      ],
      "metadata": {
        "id": "qgtTe7PvqxDW"
      }
    },
    {
      "cell_type": "code",
      "source": [
        "c1 = ComplexNumber(1, 2)\n",
        "c2 = ComplexNumber(3, 4)\n",
        "result = c1 + c2\n",
        "print(result.real)\n",
        "print(result.imag)"
      ],
      "metadata": {
        "colab": {
          "base_uri": "https://localhost:8080/"
        },
        "id": "6G7hCvUvqmI3",
        "outputId": "197f996f-757a-448c-ce7d-857f3fb58517"
      },
      "execution_count": null,
      "outputs": [
        {
          "output_type": "stream",
          "name": "stdout",
          "text": [
            "4\n",
            "6\n"
          ]
        }
      ]
    },
    {
      "cell_type": "markdown",
      "source": [
        "## Further use cases: Defining other Operators\n",
        "In addition to the + operator, you can define custom implementations for other built-in operators as well. Here are some examples:\n",
        "\n",
        "*   `__sub__()` for the - operator\n",
        "*   `__mul__()` for the * operator\n",
        "*   `__truediv__()` for the / operator\n",
        "*   `__lt__()` for the < operator\n",
        "*   `__eq__()` for the == operator\n",
        "\n",
        "By defining these methods, you can customize the behavior of built-in operators for your custom classes, making your code more expressive and intuitive.\n",
        "\n",
        "### Changing the print statement\n",
        "The implementation I use this most often is to define a to define a custom implementation of the `__str__()` method to customize how instances of your custom class are printed. The `__str__()` method is called when the str() function is used on an instance of your class, or when the instance is printed using the `print()` function.\n",
        "\n",
        "Here's an example of how you can define a custom `__str__()` method for the ComplexNumber class we defined earlier:"
      ],
      "metadata": {
        "id": "q8KzdGQjq1gl"
      }
    },
    {
      "cell_type": "code",
      "source": [
        "class ComplexNumber:\n",
        "    def __init__(self, real, imag):\n",
        "        self.real = real\n",
        "        self.imag = imag\n",
        "\n",
        "    def __add__(self, other):\n",
        "        real = self.real + other.real\n",
        "        imag = self.imag + other.imag\n",
        "        return ComplexNumber(real, imag)\n",
        "\n",
        "    def __str__(self):\n",
        "        return f\"{self.real} + {self.imag}i\"\n",
        "\n",
        "c1 = ComplexNumber(1, 2)\n",
        "c2 = ComplexNumber(3, 4)\n",
        "result = c1 + c2\n",
        "print(result)"
      ],
      "metadata": {
        "colab": {
          "base_uri": "https://localhost:8080/"
        },
        "id": "6GJfWJHyrqOL",
        "outputId": "d985331b-b572-4758-c8b2-22bbbc102ed9"
      },
      "execution_count": null,
      "outputs": [
        {
          "output_type": "stream",
          "name": "stdout",
          "text": [
            "4 + 6i\n"
          ]
        }
      ]
    },
    {
      "cell_type": "markdown",
      "source": [
        "## Conclusion\n",
        "\n",
        "Custom operator overloading is a powerful feature in Python that allows you to define the behavior of built-in operators for your custom classes. By providing custom implementations for operators such as +, -, *, and /, you can make your code more expressive and intuitive, and reduce the amount of boilerplate code needed to accomplish common tasks."
      ],
      "metadata": {
        "id": "YCMU_W4arUtz"
      }
    }
  ]
}