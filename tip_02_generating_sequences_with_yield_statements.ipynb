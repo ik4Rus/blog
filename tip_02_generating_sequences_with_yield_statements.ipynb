{
  "nbformat": 4,
  "nbformat_minor": 0,
  "metadata": {
    "colab": {
      "provenance": [],
      "authorship_tag": "ABX9TyMQ3qk/cyDicl0153vHJRes",
      "include_colab_link": true
    },
    "kernelspec": {
      "name": "python3",
      "display_name": "Python 3"
    },
    "language_info": {
      "name": "python"
    }
  },
  "cells": [
    {
      "cell_type": "markdown",
      "metadata": {
        "id": "view-in-github",
        "colab_type": "text"
      },
      "source": [
        "<a href=\"https://colab.research.google.com/github/ik4Rus/blog/blob/master/tip_02_generating_sequences_with_yield_statements.ipynb\" target=\"_parent\"><img src=\"https://colab.research.google.com/assets/colab-badge.svg\" alt=\"Open In Colab\"/></a>"
      ]
    },
    {
      "cell_type": "markdown",
      "source": [
        "# Advanced Python Tip 02: Generating Sequences with Yield Statements\n",
        "\n",
        "In this blog post, we will explore the use of the yield statement in Python functions to generate a sequence of values. The yield statement allows you to create a generator that can return values one at a time, making your code more flexible and memory-efficient.\n",
        "\n",
        "- **Twitter**: 🐍 Advanced Python Tip 2: Boost your Python programming skills with advanced tips on generating sequences using yield statements. Check out my latest blog post! #Python #coding #generators <bloglink>\n",
        "- **LinkedIn**: 🐍 Advanced Python Tip 2: Generating Sequences with Yield Statements 🚀\n",
        "In this latest tech blog post, I dive into the power of the 'yield' statement in Python functions for generating sequences of values with greater efficiency and less memory usage.\n",
        "Learn how to apply this advanced Python tip to your own coding projects and take your Python programming skills to the next level.\n",
        "`#Python #ProgrammingTips #Generators #TechBlog #PythonProgramming #CodingSkills #Efficiency #MemoryUsage <bloglink>`"
      ],
      "metadata": {
        "id": "PQGHAeA9AL2z"
      }
    },
    {
      "cell_type": "markdown",
      "source": [
        "## Introduction: The yield statement\n",
        "One of the powerful features of Python is the use of the yield statement. The `yield` statement allows us to generate a sequence of values in a function, making it a useful tool for creating iterators and generators. In this blog post, we will explore how to use the yield statement to generate a sequence of values in a function and its advantages over using a regular return statement. We will also provide some practical examples of how to implement the yield statement in Python code."
      ],
      "metadata": {
        "id": "7HZeuS9U75Qu"
      }
    },
    {
      "cell_type": "markdown",
      "source": [
        "## Problem: Inefficiency using return\n",
        "\n",
        "The problem with traditional Python functions is that they return a value and terminate. If you want to generate a sequence of values in a function, you'll need to store them in a list or other data structure before returning them. This can be inefficient if you're working with large data sets or if you only need to access a few values at a time. Additionally, if you store all the values in memory, it can lead to performance issues.\n",
        "\n",
        "Consider the following example:\n"
      ],
      "metadata": {
        "id": "xOFafvGB8Axv"
      }
    },
    {
      "cell_type": "code",
      "source": [
        "def get_numbers(n):\n",
        "    numbers = []\n",
        "    for i in range(n):\n",
        "        numbers.append(i)\n",
        "    return numbers\n",
        "\n",
        "get_numbers(10)"
      ],
      "metadata": {
        "colab": {
          "base_uri": "https://localhost:8080/"
        },
        "id": "lNPrXz6D8dJM",
        "outputId": "5edef1c7-2427-4bdd-c4d7-f025b6285e37"
      },
      "execution_count": 2,
      "outputs": [
        {
          "output_type": "execute_result",
          "data": {
            "text/plain": [
              "[0, 1, 2, 3, 4, 5, 6, 7, 8, 9]"
            ]
          },
          "metadata": {},
          "execution_count": 2
        }
      ]
    },
    {
      "cell_type": "markdown",
      "source": [
        "This function generates a list of numbers from 0 to n-1 and returns it. While this code works, it has a few drawbacks. First, it generates all the numbers at once, which can be inefficient if you only need to access a few at a time. Second, it stores all the numbers in memory, which can lead to performance issues if you're working with large data sets. Finally, it requires you to wait until all the numbers have been generated before you can access them.\n",
        "\n",
        "In the next section, we'll explore how to use the yield statement to overcome these limitations and generate a sequence of values in a function more efficiently."
      ],
      "metadata": {
        "id": "gRh6xRs48hLG"
      }
    },
    {
      "cell_type": "markdown",
      "source": [
        "## Solution: Yielding one item at a time\n",
        "The solution to generating a sequence of values in a function is to use the yield statement. The yield statement allows you to generate a sequence of values one at a time, without having to store them in a list or other data structure. When the function is called, it returns a generator object, which can be used to iterate over the values one at a time.\n",
        "\n",
        "Here's an example of how to use the yield statement to generate a sequence of numbers:"
      ],
      "metadata": {
        "id": "AtluegHr8_gH"
      }
    },
    {
      "cell_type": "code",
      "source": [
        "def get_numbers(n):\n",
        "    for i in range(n):\n",
        "        yield i\n",
        "numbers = get_numbers(10)"
      ],
      "metadata": {
        "id": "ogx-_1oD9DuL"
      },
      "execution_count": 7,
      "outputs": []
    },
    {
      "cell_type": "markdown",
      "source": [
        "This function generates a sequence of numbers from 0 to n-1 and yields them one at a time. When you call the function, it returns a generator object, which can be used to iterate over the values. For example:"
      ],
      "metadata": {
        "id": "T6qUZObr8_O2"
      }
    },
    {
      "cell_type": "code",
      "source": [
        "print(next(numbers))\n",
        "print(next(numbers))\n",
        "print(next(numbers))"
      ],
      "metadata": {
        "colab": {
          "base_uri": "https://localhost:8080/"
        },
        "id": "KMpw-Ipx9OnF",
        "outputId": "e696a822-f87f-43f7-93a2-a6050e6f2cfd"
      },
      "execution_count": 8,
      "outputs": [
        {
          "output_type": "stream",
          "name": "stdout",
          "text": [
            "0\n",
            "1\n",
            "2\n"
          ]
        }
      ]
    },
    {
      "cell_type": "markdown",
      "source": [
        "In this example, we call the get_numbers function with an argument of 10, which generates a sequence of numbers from 0 to 9. We then create a generator object and call the next function to get the first value. Each time we call the next function, it returns the next value in the sequence.\n",
        "\n",
        "Using the yield statement has several advantages over using a regular return statement. First, it generates values one at a time, which can be more efficient if you only need to access a few at a time. Second, it doesn't store all the values in memory, which can lead to performance issues if you're working with large data sets. Finally, it allows you to start iterating over the values immediately, without having to wait for all of them to be generated.\n",
        "\n",
        "In the next section, we'll explore some practical examples of how to use the yield statement to generate sequences of values in Python."
      ],
      "metadata": {
        "id": "e8pZayIu8_HM"
      }
    },
    {
      "cell_type": "markdown",
      "source": [
        "# Further use cases\n",
        "In the following we will explore three more use cases.\n",
        "\n",
        "## Use case 1: Infinite sequence\n",
        "\n",
        "You can also use the yield statement to generate an infinite sequence of values. Here's an example:"
      ],
      "metadata": {
        "id": "g6zgQUgv9yLf"
      }
    },
    {
      "cell_type": "code",
      "source": [
        "def infinite_sequence():\n",
        "    num = 0\n",
        "    while True:\n",
        "        yield num\n",
        "        num += 1"
      ],
      "metadata": {
        "id": "fwpFJCwL_pe2"
      },
      "execution_count": 14,
      "outputs": []
    },
    {
      "cell_type": "markdown",
      "source": [
        "This function generates an infinite sequence of numbers, starting at 0 and increasing by 1 each time. You can use a for loop to iterate over the values, or use the next function to get the next value in the sequence."
      ],
      "metadata": {
        "id": "s1acV8cS_pYU"
      }
    },
    {
      "cell_type": "code",
      "source": [
        "numbers = infinite_sequence()\n",
        "print(next(numbers))\n",
        "print(next(numbers))\n",
        "print(next(numbers))"
      ],
      "metadata": {
        "colab": {
          "base_uri": "https://localhost:8080/"
        },
        "id": "GUqYEb3G_o9_",
        "outputId": "20cbf9b5-6119-40e0-fc4d-cc167b8dd940"
      },
      "execution_count": 15,
      "outputs": [
        {
          "output_type": "stream",
          "name": "stdout",
          "text": [
            "0\n",
            "1\n",
            "2\n"
          ]
        }
      ]
    },
    {
      "cell_type": "markdown",
      "source": [
        "## Use case 2: The Fibonacci sequence\n",
        "\n",
        "While yield staments are handy for all kinds of infininite sequences, the classic use case is generating the Fibonacci sequence. Here's an example: "
      ],
      "metadata": {
        "id": "IGUKM34L_mhP"
      }
    },
    {
      "cell_type": "code",
      "source": [
        "def fibonacci():\n",
        "    a, b = 0, 1\n",
        "    while True:\n",
        "        yield a\n",
        "        a, b = b, a + b"
      ],
      "metadata": {
        "id": "GvVeZdzI99XR"
      },
      "execution_count": 9,
      "outputs": []
    },
    {
      "cell_type": "markdown",
      "source": [
        "This function generates the Fibonacci sequence one number at a time, using the yield statement to return each number. You can use a for loop to iterate over the values, like this:"
      ],
      "metadata": {
        "id": "FpVfcOje-DJO"
      }
    },
    {
      "cell_type": "code",
      "source": [
        "for num in fibonacci():\n",
        "    if num > 10:\n",
        "        break\n",
        "    print(num)"
      ],
      "metadata": {
        "colab": {
          "base_uri": "https://localhost:8080/"
        },
        "id": "RdejBUnW-GXk",
        "outputId": "29309d2f-a5c5-46de-80ad-5d891a05e44d"
      },
      "execution_count": 10,
      "outputs": [
        {
          "output_type": "stream",
          "name": "stdout",
          "text": [
            "0\n",
            "1\n",
            "1\n",
            "2\n",
            "3\n",
            "5\n",
            "8\n"
          ]
        }
      ]
    },
    {
      "cell_type": "markdown",
      "source": [
        "## Use case 2: Generating permutations\n",
        "\n",
        "You can also use the yield statement to generate permutations of a sequence of values. Here's an example:\n"
      ],
      "metadata": {
        "id": "5ovxRmf8-fQk"
      }
    },
    {
      "cell_type": "code",
      "source": [
        "def permutations(items):\n",
        "    n = len(items)\n",
        "    if n == 0:\n",
        "        yield []\n",
        "    else:\n",
        "        for i in range(len(items)):\n",
        "            for perm in permutations(items[:i] + items[i+1:]):\n",
        "                yield [items[i]] + perm"
      ],
      "metadata": {
        "id": "HRqAB9xE-ewX"
      },
      "execution_count": 11,
      "outputs": []
    },
    {
      "cell_type": "markdown",
      "source": [
        "This function generates all possible permutations of a sequence of values. You can use it like this:"
      ],
      "metadata": {
        "id": "_2OAZrSk-1Fr"
      }
    },
    {
      "cell_type": "code",
      "source": [
        "for perm in permutations([1, 2, 3]):\n",
        "    print(perm)"
      ],
      "metadata": {
        "colab": {
          "base_uri": "https://localhost:8080/"
        },
        "id": "qSpBLNZ8-5Jr",
        "outputId": "f501dfeb-c458-44c4-e114-83829ba1c6cd"
      },
      "execution_count": 12,
      "outputs": [
        {
          "output_type": "stream",
          "name": "stdout",
          "text": [
            "[1, 2, 3]\n",
            "[1, 3, 2]\n",
            "[2, 1, 3]\n",
            "[2, 3, 1]\n",
            "[3, 1, 2]\n",
            "[3, 2, 1]\n"
          ]
        }
      ]
    },
    {
      "cell_type": "markdown",
      "source": [
        "This code prints all the possible permutations of the sequence [1, 2, 3].\n",
        "\n",
        "Using the yield statement allows you to generate sequences of values more efficiently and with less memory usage. By creating generators that return values one at a time, you can make your code more flexible and easier to work with."
      ],
      "metadata": {
        "id": "_PC938oY_FI4"
      }
    },
    {
      "cell_type": "markdown",
      "source": [
        "## Summary\n",
        "\n",
        "In this blog post, we explored the use of the yield statement in Python functions to generate a sequence of values. We started by introducing the yield statement and how it differs from the return statement. We then presented a problem statement related to generating a sequence of numbers, and showed how the yield statement can be used to solve this problem more efficiently than creating a list. We also presented several use cases for the yield statement, including generating an infinite sequence, the Fibonacci sequence and generating permutations. By using the yield statement, you can make your code more flexible, easier to work with, and more memory-efficient."
      ],
      "metadata": {
        "id": "5TH5vvuvAD31"
      }
    }
  ]
}