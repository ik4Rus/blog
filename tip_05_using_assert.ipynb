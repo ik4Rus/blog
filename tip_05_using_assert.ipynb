{
  "nbformat": 4,
  "nbformat_minor": 0,
  "metadata": {
    "colab": {
      "provenance": [],
      "authorship_tag": "ABX9TyNStr2HKZRNzUiu0jVinrkq",
      "include_colab_link": true
    },
    "kernelspec": {
      "name": "python3",
      "display_name": "Python 3"
    },
    "language_info": {
      "name": "python"
    }
  },
  "cells": [
    {
      "cell_type": "markdown",
      "metadata": {
        "id": "view-in-github",
        "colab_type": "text"
      },
      "source": [
        "<a href=\"https://colab.research.google.com/github/ik4Rus/blog/blob/master/tip_05_using_assert.ipynb\" target=\"_parent\"><img src=\"https://colab.research.google.com/assets/colab-badge.svg\" alt=\"Open In Colab\"/></a>"
      ]
    },
    {
      "cell_type": "markdown",
      "source": [
        "# Advanced Python Tip 5: Using assert to Ensure Correctness and Debug Code\n",
        "\n",
        "In Python programming, it's essential to ensure that your code behaves correctly and predictably, even in complex or multi-threaded environments. Using `assert` statements to check conditions and raise exceptions can help you catch errors early and prevent subtle bugs from creeping into your code. In this technical blog, we'll explore advanced tips for using `assert` in Python, including real-world use cases and best practices for ensuring correctness and debugging your code.\n",
        "\n",
        "\n",
        "\n",
        "*   **Twitter**: I just published a new technical blog post on advanced Python tips! 🐍 Learn how to use assert statements to catch errors early and ensure your code behaves correctly. Check it out now on my blog! 😎 #PythonProgramming #AdvancedTips <bloglink>\n",
        "*   **LinkedIn**: \n",
        "\n"
      ],
      "metadata": {
        "id": "ep6Uc1xczYaU"
      }
    },
    {
      "cell_type": "markdown",
      "source": [
        "## Introduction: Raise an Exception if a Condition Isn't Met\n",
        "As a Python developer, you may encounter situations where you need to verify if a condition is met and raise an exception if it's not. One way to do this is by using the `assert` statement. The `assert` statement is a powerful tool that allows you to check if a condition is true and raise an exception if it's false. In this blog post, we'll explore how to use `assert` to raise an exception if a condition isn't met and see some practical examples."
      ],
      "metadata": {
        "id": "3ifqumPwvFMs"
      }
    },
    {
      "cell_type": "markdown",
      "source": [
        "## Problem Statement: When to use assert in Python code\n",
        "\n",
        "As a Python developer, you may want to ensure that your code behaves correctly and predictably. This requires that you verify certain conditions, such as the validity of user inputs or the correctness of computations. While you can use if statements to check for conditions and raise an exception if they're not met, this can become verbose and difficult to read, especially when dealing with complex conditions. In addition, it can be easy to overlook these checks, leading to subtle bugs that may be difficult to catch.\n",
        "Consider the following example:"
      ],
      "metadata": {
        "id": "IpNxpoAzvFJR"
      }
    },
    {
      "cell_type": "code",
      "source": [
        "def divide(a, b):\n",
        "    if b == 0:\n",
        "        raise ValueError(\"Cannot divide by zero\")\n",
        "    return a / b"
      ],
      "metadata": {
        "id": "5n02oQoevhG1"
      },
      "execution_count": null,
      "outputs": []
    },
    {
      "cell_type": "markdown",
      "source": [
        "Here, we have a function that performs a division operation. We want to ensure that we don't divide by zero, so we check if the denominator (b) is zero using an if statement. If the condition is true, we raise a ValueError exception.\n",
        "\n",
        "This works fine, but it can be improved with the use of assert."
      ],
      "metadata": {
        "id": "pSC2SxeevE_E"
      }
    },
    {
      "cell_type": "code",
      "source": [
        "def divide(a, b):\n",
        "    assert b != 0, \"Cannot divide by zero\"\n",
        "    return a / b"
      ],
      "metadata": {
        "id": "GjAupRPDvoHF"
      },
      "execution_count": null,
      "outputs": []
    },
    {
      "cell_type": "markdown",
      "source": [
        "Here, we use `assert` to check if b is not equal to zero. If the condition is false, the assert statement raises an AssertionError exception with the given error message. This code is more concise, easier to read, and ensures that we don't accidentally divide by zero.\n",
        "\n",
        "In the next section, we'll explore the syntax and semantics of assert statements in more detail."
      ],
      "metadata": {
        "id": "-b2_qsxbvoZb"
      }
    },
    {
      "cell_type": "markdown",
      "source": [
        "## Solution: Using assert in Python\n",
        "The assert statement in Python is a debugging aid that tests a condition and triggers an error if the condition is not true. The basic syntax of an assert statement is:"
      ],
      "metadata": {
        "id": "uLecn4XOxPMp"
      }
    },
    {
      "cell_type": "code",
      "source": [
        "assert condition, message"
      ],
      "metadata": {
        "id": "7wm1SmOWxPBw"
      },
      "execution_count": null,
      "outputs": []
    },
    {
      "cell_type": "markdown",
      "source": [
        "Here, condition is the expression that we want to check, and message is an optional error message that will be displayed if the assertion fails.\n",
        "\n",
        "When Python encounters an assert statement, it evaluates the condition. If the condition is true, execution continues normally. If the condition is false, Python raises an AssertionError exception with the given message.\n",
        "\n",
        "Let's take a look at some examples to see how assert can be used.\n",
        "\n",
        "### Example 1: Checking Function Arguments\n",
        "\n",
        "Here, we use assert to check if the width and height arguments are positive. If either of them is not positive, an AssertionError with the given error message will be raised."
      ],
      "metadata": {
        "id": "T7j5AKOqxH4y"
      }
    },
    {
      "cell_type": "code",
      "source": [
        "def calculate_area(width, height):\n",
        "    assert width > 0 and height > 0, \"Width and height must be positive\"\n",
        "    return width * height"
      ],
      "metadata": {
        "id": "va3sHQzPxHuR"
      },
      "execution_count": null,
      "outputs": []
    },
    {
      "cell_type": "markdown",
      "source": [
        "### Example 2: Debugging Complex Expressions\n",
        "\n",
        "Here, we use assert to check if the total price is within a certain range. This is a concise way to check a complex expression without cluttering the code with if statements."
      ],
      "metadata": {
        "id": "TMI0xg88vtQD"
      }
    },
    {
      "cell_type": "code",
      "source": [
        "def calculate_price(quantity, price):\n",
        "    total = quantity * price\n",
        "    assert 0 <= total <= 1000, \"Total price must be between 0 and 1000\"\n",
        "    return total"
      ],
      "metadata": {
        "id": "mxby4O_fxAV0"
      },
      "execution_count": null,
      "outputs": []
    },
    {
      "cell_type": "markdown",
      "source": [
        "### Example 3: Unit Testing\n",
        "\n",
        "Here, we use assert statements in a unit test to check if a function behaves correctly. The third test case will pass if an AssertionError is raised when the width is negative."
      ],
      "metadata": {
        "id": "DTs4CrMTxAza"
      }
    },
    {
      "cell_type": "code",
      "source": [
        "def test_calculate_area():\n",
        "    assert calculate_area(2, 3) == 6\n",
        "    assert calculate_area(0, 5) == 0\n",
        "    assert calculate_area(-1, 4) == AssertionError"
      ],
      "metadata": {
        "id": "gELuhaugw0o8"
      },
      "execution_count": null,
      "outputs": []
    },
    {
      "cell_type": "markdown",
      "source": [
        "## Further Use Cases: Advanced Examples of Using assert in Python\n",
        "\n",
        "While we've covered some basic examples of using assert, there are many other situations where assert can be helpful. Here are some more advanced use cases:\n",
        "\n",
        "### Example 4: Testing Data Structures\n",
        "Here, we use assert to check if the stack is not empty before popping an item, and if the item being pushed is not None. This ensures that our data structure behaves correctly and prevents errors from occurring."
      ],
      "metadata": {
        "id": "XHSx9mwHw0M1"
      }
    },
    {
      "cell_type": "code",
      "source": [
        "class Stack:\n",
        "    def __init__(self):\n",
        "        self.items = []\n",
        "\n",
        "    def push(self, item):\n",
        "        assert item is not None, \"Item cannot be None\"\n",
        "        self.items.append(item)\n",
        "\n",
        "    def pop(self):\n",
        "        assert self.size() > 0, \"Stack is empty\"\n",
        "        return self.items.pop()\n",
        "\n",
        "    def size(self):\n",
        "        return len(self.items)"
      ],
      "metadata": {
        "id": "iz4z__QsyUNQ"
      },
      "execution_count": null,
      "outputs": []
    },
    {
      "cell_type": "markdown",
      "source": [
        "### Example 5: Debugging Complex Algorithms\n",
        "\n",
        "Here, we use assert to check if the partitioning step of the quicksort algorithm is correct. This can help us catch subtle errors that may not be immediately obvious from the output of the function."
      ],
      "metadata": {
        "id": "To92mNCFye8B"
      }
    },
    {
      "cell_type": "code",
      "source": [
        "def quicksort(arr):\n",
        "    if len(arr) <= 1:\n",
        "        return arr\n",
        "    pivot = arr[0]\n",
        "    left = [x for x in arr[1:] if x <= pivot]\n",
        "    right = [x for x in arr[1:] if x > pivot]\n",
        "    assert len(left) + len(right) == len(arr) - 1, \"Invalid partition\"\n",
        "    return quicksort(left) + [pivot] + quicksort(right)"
      ],
      "metadata": {
        "id": "wpKPdICoyjbS"
      },
      "execution_count": null,
      "outputs": []
    },
    {
      "cell_type": "markdown",
      "source": [
        "### Example 6: Debugging Multi-Threaded Code\n",
        "Here, we use assert to ensure that the amount being deposited or withdrawn is positive, and that there are sufficient funds in the account before withdrawing. This can help us catch race conditions or other bugs that may occur in multi-threaded code."
      ],
      "metadata": {
        "id": "vo6_f9TXyl2s"
      }
    },
    {
      "cell_type": "code",
      "source": [
        "import threading\n",
        "\n",
        "balance = 0\n",
        "lock = threading.Lock()\n",
        "\n",
        "def deposit(amount):\n",
        "    assert amount > 0, \"Amount must be positive\"\n",
        "    global balance\n",
        "    with lock:\n",
        "        balance += amount\n",
        "\n",
        "def withdraw(amount):\n",
        "    assert amount > 0, \"Amount must be positive\"\n",
        "    global balance\n",
        "    with lock:\n",
        "        assert balance >= amount, \"Insufficient funds\"\n",
        "        balance -= amount"
      ],
      "metadata": {
        "id": "MeKsqR_gymOg"
      },
      "execution_count": null,
      "outputs": []
    },
    {
      "cell_type": "markdown",
      "source": [
        "## Summary\n",
        "In conclusion, using `assert` to raise exceptions if conditions aren't met is a powerful technique for catching errors early and preventing bugs from creeping into your code. By using `assert` to check conditions and raise exceptions, you can ensure that your code behaves correctly and predictably, even in complex or multi-threaded environments.\n",
        "\n",
        "When using `assert`, it's important to remember a few best practices:\n",
        "\n",
        "Only use `assert` for conditions that should never occur in normal operation.\n",
        "\n",
        "*   Use descriptive error messages that explain why the assertion failed.\n",
        "*   Consider disabling `assert` statements in production code for performance reasons.\n",
        "\n",
        "By following these best practices, you can use `assert` to make your code more reliable, robust, and easy to debug.\n",
        "\n",
        "\n"
      ],
      "metadata": {
        "id": "sUWkSVj4yxCP"
      }
    }
  ]
}