{
  "nbformat": 4,
  "nbformat_minor": 0,
  "metadata": {
    "colab": {
      "provenance": [],
      "authorship_tag": "ABX9TyPg2FTNUsNHtLkmohJqhfug",
      "include_colab_link": true
    },
    "kernelspec": {
      "name": "python3",
      "display_name": "Python 3"
    },
    "language_info": {
      "name": "python"
    }
  },
  "cells": [
    {
      "cell_type": "markdown",
      "metadata": {
        "id": "view-in-github",
        "colab_type": "text"
      },
      "source": [
        "<a href=\"https://colab.research.google.com/github/ik4Rus/blog/blob/master/tip_07_building_asynch_client_server_applications.ipynb\" target=\"_parent\"><img src=\"https://colab.research.google.com/assets/colab-badge.svg\" alt=\"Open In Colab\"/></a>"
      ]
    },
    {
      "cell_type": "markdown",
      "source": [
        "# Advanced Python Tip 7: Building Asynchronous Client-Server Applications with Python's Selectors Module\n",
        "\n",
        "One of the key challenges in building network applications is handling I/O operations in a scalable and efficient manner. Python's selectors module provides a powerful solution to this challenge, allowing developers to build asynchronous client-server applications that can handle multiple clients simultaneously. In this blog post, we will explore the use of the selectors module in Python and demonstrate how to build an asynchronous client-server application with it.\n",
        "\n",
        "*   **Twitter**: 🐍💻 Looking to build scalable and efficient network applications with Python? Check out my latest blog post on using the selectors module to create asynchronous client-server apps! 🤖🚀 #PythonProgramming #AsyncProgramming <bloglink>\n",
        "*   **LinkedIn**:\n",
        "Are you a Python developer looking to build scalable and efficient network applications? 🐍💻 In my latest blog post, I explore how to use the selectors module in Python to build asynchronous client-server applications that can handle multiple clients simultaneously! 🤖🚀\n",
        "The selectors module provides a powerful solution to the challenge of handling I/O operations in a scalable and efficient manner. By using the techniques demonstrated in this blog post, you can build your own asynchronous client-server applications with Python and take your network programming skills to the next level! Check out the post below 👇 and let me know what you think! #PythonProgramming #AsyncProgramming <bloglink>\n"
      ],
      "metadata": {
        "id": "pTv-ZI7f3Jix"
      }
    },
    {
      "cell_type": "markdown",
      "source": [
        "## Introduction: Using the Selectors Module for Asynchronous Client-Server Applications\n",
        "\n",
        "Asynchronous programming has become increasingly important for building high-performance network applications. In the context of client-server applications, it allows us to handle multiple client connections without blocking the main program flow, making our application more efficient and scalable. In this blog post, we'll explore how to use the selectors module in Python to create an asynchronous client-server application. The selectors module provides a powerful and efficient way to monitor multiple sockets and file objects for events, such as incoming data, and handle them in an asynchronous manner. Let's dive in and learn how to use the selectors module for building advanced network applications in Python."
      ],
      "metadata": {
        "id": "TYb80cBGyt3s"
      }
    },
    {
      "cell_type": "markdown",
      "source": [
        "## Problem Statement: Handling Multiple Client Connections in a Synchronous Way\n",
        "\n",
        "When building a client-server application, we often face the challenge of handling multiple client connections simultaneously. In a synchronous approach, the server waits for a client to connect, processes its request, and then moves on to the next client. This approach, however, can lead to blocking and slow down the server's response time, especially when dealing with a large number of clients.\n",
        "\n",
        "Consider the following example of a synchronous server that handles client connections one at a time:"
      ],
      "metadata": {
        "id": "Vc0NurpgytrY"
      }
    },
    {
      "cell_type": "code",
      "source": [
        "import socket\n",
        "\n",
        "HOST = '127.0.0.1'  # Standard loopback interface address (localhost)\n",
        "PORT = 65432        # Port to listen on (non-privileged ports are > 1023)\n",
        "\n",
        "with socket.socket(socket.AF_INET, socket.SOCK_STREAM) as s:\n",
        "    s.bind((HOST, PORT))\n",
        "    s.listen()\n",
        "    while True:\n",
        "        conn, addr = s.accept()\n",
        "        with conn:\n",
        "            print('Connected by', addr)\n",
        "            data = conn.recv(1024)\n",
        "            conn.sendall(data)"
      ],
      "metadata": {
        "id": "gl_h_SQQy9qc"
      },
      "execution_count": null,
      "outputs": []
    },
    {
      "cell_type": "markdown",
      "source": [
        "In the synchronous server example, the server uses the s.listen() method to listen for incoming connections from clients. Once a client connects to the server using the s.accept() method, the server creates a new socket object conn to communicate with the client. The conn.recv(1024) method is used to receive data from the client. The 1024 parameter specifies the maximum amount of data that can be received at once, which is commonly used as a buffer size. The server then sends a response back to the client using the conn.sendall(data) method. Finally, the server waits for the next client to connect by calling s.accept() again.\n",
        "\n",
        "Note that in a synchronous server, the server can only handle one client at a time. While the server is waiting for a client to send data using conn.recv(1024), it is blocked and unable to handle any other client connections. This can cause the server to become unresponsive if it is handling many clients simultaneously. In the next section, we'll explore how to use the selectors module in Python to handle multiple client connections asynchronously, improving our server's performance and scalability.\n",
        "\n",
        "\n",
        "If you want to test the code, you can execute it in a first python terminal while starting the following code in the second. "
      ],
      "metadata": {
        "id": "SUZC6vcVzDAr"
      }
    },
    {
      "cell_type": "code",
      "source": [
        "import socket\n",
        "\n",
        "HOST = '127.0.0.1'  # The server's hostname or IP address\n",
        "PORT = 65432        # The port used by the server\n",
        "\n",
        "with socket.socket(socket.AF_INET, socket.SOCK_STREAM) as s:\n",
        "    s.connect((HOST, PORT))\n",
        "    print(f\"Connected to server on port {s.getsockname()[1]}\")\n",
        "    s.sendall(b'Hello, world')\n",
        "    data = s.recv(1024)\n",
        "\n",
        "print('Received', repr(data))"
      ],
      "metadata": {
        "id": "bQUKBTa-zw7R"
      },
      "execution_count": null,
      "outputs": []
    },
    {
      "cell_type": "markdown",
      "source": [
        "You should now see in both processes that the same port is connected to our socket, and that our 'Hello, world' data is returned.\n",
        "\n",
        "While this approach works for a small number of clients, it can quickly become a bottleneck when dealing with many clients. In the next section, we'll explore how to use the selectors module in Python to handle multiple client connections asynchronously, improving our server's performance and scalability.\n",
        "\n",
        "## Using the selectors module for an asynchronous client-server application\n",
        "\n",
        "Python's selectors module provides a way to efficiently handle multiple socket connections in an asynchronous manner, allowing a server to handle multiple clients simultaneously without being blocked by individual client requests. Here's how to use the selectors module to create an asynchronous client-server application:\n",
        "\n",
        "1.) First, import the necessary modules and create a Selector object:\n"
      ],
      "metadata": {
        "id": "sL9ai73bzvLj"
      }
    },
    {
      "cell_type": "code",
      "source": [
        "import selectors\n",
        "import socket\n",
        "\n",
        "sel = selectors.DefaultSelector()"
      ],
      "metadata": {
        "id": "kJmY1wCm177_"
      },
      "execution_count": null,
      "outputs": []
    },
    {
      "cell_type": "markdown",
      "source": [
        "2.) Define a function to accept incoming connections from clients:"
      ],
      "metadata": {
        "id": "nG1s2fKt1_12"
      }
    },
    {
      "cell_type": "code",
      "source": [
        "def accept_wrapper(sock):\n",
        "    conn, addr = sock.accept()\n",
        "    print(f\"Accepted connection from {addr}\")\n",
        "    conn.setblocking(False)\n",
        "    sel.register(conn, selectors.EVENT_READ, data=None)"
      ],
      "metadata": {
        "id": "eq8yq4d61-2t"
      },
      "execution_count": null,
      "outputs": []
    },
    {
      "cell_type": "markdown",
      "source": [
        "This function creates a new socket object `conn` and registers it with the selector for reading events. It also sets the socket to non-blocking mode so that it does not block while waiting for data.\n",
        "\n",
        "3.) Define a function to handle incoming client requests:"
      ],
      "metadata": {
        "id": "3RNKOFLR2G9c"
      }
    },
    {
      "cell_type": "code",
      "source": [
        "def service_connection(key, mask):\n",
        "    sock = key.fileobj\n",
        "    data = key.data\n",
        "    if mask & selectors.EVENT_READ:\n",
        "        recv_data = sock.recv(1024)\n",
        "        if recv_data:\n",
        "            print(f\"Received {repr(recv_data)} from {sock.getpeername()}\")\n",
        "            data.outb += recv_data\n",
        "        else:\n",
        "            print(f\"Closing connection to {sock.getpeername()}\")\n",
        "            sel.unregister(sock)\n",
        "            sock.close()\n",
        "    if mask & selectors.EVENT_WRITE:\n",
        "        if data.outb:\n",
        "            print(f\"Echoing {repr(data.outb)} to {sock.getpeername()}\")\n",
        "            sent = sock.send(data.outb)\n",
        "            data.outb = data.outb[sent:]"
      ],
      "metadata": {
        "id": "-BKqeZdV2Y3Y"
      },
      "execution_count": null,
      "outputs": []
    },
    {
      "cell_type": "markdown",
      "source": [
        "This function handles incoming client requests by receiving data from the client using `sock.recv(1024)`, and sending a response back to the client using `sock.send()`. It also manages the data object associated with the socket, which stores any outgoing data to be sent to the client.\n",
        "\n",
        "4.) Define a function to start the server and listen for incoming connections:"
      ],
      "metadata": {
        "id": "wYdLhyvI2bFZ"
      }
    },
    {
      "cell_type": "code",
      "source": [
        "def start_server():\n",
        "    HOST = '127.0.0.1'\n",
        "    PORT = 65432\n",
        "    sock = socket.socket(socket.AF_INET, socket.SOCK_STREAM)\n",
        "    sock.bind((HOST, PORT))\n",
        "    sock.listen()\n",
        "    print(f\"Listening on {HOST}:{PORT}\")\n",
        "    sock.setblocking(False)\n",
        "    sel.register(sock, selectors.EVENT_READ, data=None)"
      ],
      "metadata": {
        "id": "idK1OH7u2hmC"
      },
      "execution_count": null,
      "outputs": []
    },
    {
      "cell_type": "markdown",
      "source": [
        "This function creates a new socket object, binds it to a specific host and port, and listens for incoming connections using `sock.listen()`. It also registers the socket with the selector for reading events."
      ],
      "metadata": {
        "id": "_iHB6v6-2jhw"
      }
    },
    {
      "cell_type": "markdown",
      "source": [
        "5.) Finally, create a loop to continuously monitor the selector for incoming events and handle them asynchronously:"
      ],
      "metadata": {
        "id": "5pEOnjgP2mv2"
      }
    },
    {
      "cell_type": "code",
      "source": [
        "def event_loop():\n",
        "    while True:\n",
        "        events = sel.select(timeout=None)\n",
        "        for key, mask in events:\n",
        "            if key.data is None:\n",
        "                accept_wrapper(key.fileobj)\n",
        "            else:\n",
        "                service_connection(key, mask)"
      ],
      "metadata": {
        "id": "1_cQbjw02qee"
      },
      "execution_count": null,
      "outputs": []
    },
    {
      "cell_type": "markdown",
      "source": [
        "This loop continuously monitors the selector for incoming events using sel.`select()`, and calls the appropriate handler function based on the type of event received. If the event is a new connection, it calls `accept_wrapper()` to accept the connection and register it with the selector. If the event is a read or write event on an existing connection, it calls `service_connection()` to handle the incoming data and send any outgoing data."
      ],
      "metadata": {
        "id": "oI6uedLU2sxb"
      }
    },
    {
      "cell_type": "markdown",
      "source": [
        "## Summary\n",
        "\n",
        "In summary, by using the selectors module in Python, we can create an asynchronous client-server application that allows for multiple clients to connect to a server and communicate with it simultaneously. This allows for more efficient and scalable network communication in Python applications. The selectors module provides a powerful and flexible way to handle I/O multiplexing in Python, and by using it, we can avoid the limitations of traditional blocking I/O operations. With the code examples provided, you should be able to start building your own asynchronous client-server applications in Python."
      ],
      "metadata": {
        "id": "WINLJE_R3FBV"
      }
    }
  ]
}