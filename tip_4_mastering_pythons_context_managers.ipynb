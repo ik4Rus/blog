{
  "nbformat": 4,
  "nbformat_minor": 0,
  "metadata": {
    "colab": {
      "provenance": [],
      "authorship_tag": "ABX9TyNvE7r2EITaPFTy5L1YqXTc",
      "include_colab_link": true
    },
    "kernelspec": {
      "name": "python3",
      "display_name": "Python 3"
    },
    "language_info": {
      "name": "python"
    }
  },
  "cells": [
    {
      "cell_type": "markdown",
      "metadata": {
        "id": "view-in-github",
        "colab_type": "text"
      },
      "source": [
        "<a href=\"https://colab.research.google.com/github/ik4Rus/blog/blob/master/tip_4_mastering_pythons_context_managers.ipynb\" target=\"_parent\"><img src=\"https://colab.research.google.com/assets/colab-badge.svg\" alt=\"Open In Colab\"/></a>"
      ]
    },
    {
      "cell_type": "markdown",
      "source": [
        "# Advanced Python Tip 4: Mastering Python's Context Managers\n",
        "Context managers are a powerful tool in Python that allow you to properly manage resources and ensure their safe cleanup when they are no longer needed. In this article, we will explore how to create context managers using two different approaches: the with statement with `__enter__` and `__exit__` methods, and the `@contextmanager` decorator with generator functions. We will also cover some advanced tips and tricks for working with context managers, such as handling exceptions, managing database connections, and working with threading locks.\n",
        "\n",
        "*   **Twitter**: Just wrote a blog post about mastering Python's context managers 🐍💻 Learn how to properly manage resources, handle exceptions, and work with threading locks using the 'with' statement and @contextmanager decorator 🚪 Check it out on my blog! 😃 <bloglink> #PythonTips #Programming\n",
        "*   **LinkedIn**: Efficient resource management is key to successful Python programming, and context managers are an essential tool for achieving this. Check out my latest blog post, where I explore how to use the with statement and the @contextmanager decorator to create context managers in Python. Plus, I cover advanced tips and tricks for handling exceptions, managing database connections, and working with threading locks. Read it now on my blog! 🐍💻 #PythonProgramming #ContextManagers #ResourceManagement <bloglink>"
      ],
      "metadata": {
        "id": "k7hx8CP2b1xO"
      }
    },
    {
      "cell_type": "markdown",
      "source": [
        "## Understanding Context Managers in Python Programming\n",
        "In today's blog post, we'll be discussing how to utilize the with statement and the @contextmanager decorator for creating context managers in Python. Context managers are a useful tool for managing resources and ensuring proper cleanup, especially in situations where exceptions might be raised. While context managers are not a new concept in Python, the with statement and the @contextmanager decorator provide a convenient and powerful way to create them. So, let's dive in and explore this topic in more detail!"
      ],
      "metadata": {
        "id": "lzPcL4cfWHJp"
      }
    },
    {
      "cell_type": "markdown",
      "source": [
        "## Problem Statement: Managing resources in Python\n",
        "\n",
        "In Python, managing resources such as file handles, network sockets, or database connections is a common task. However, failing to properly release these resources can cause memory leaks or other issues. Additionally, handling exceptions when working with resources can be tricky, since you need to make sure the resources are released even if an exception occurs. One solution to these problems is to use context managers.\n",
        "\n",
        "A context manager is an object that defines the methods `__enter__()` and `__exit__()`. The `__enter__()` method is called when the object is entered, and the `__exit__()` method is called when the object is exited. This allows the context manager to perform setup and cleanup operations automatically. The with statement in Python is used to create a context for a block of code that should be executed with a specific context manager.\n",
        "\n",
        "However, defining a context manager class can be tedious and repetitive, especially for simple use cases. This is where the @contextmanager decorator comes in handy. The @contextmanager decorator is a function decorator that allows you to define a context manager using a generator function instead of a class. This can be more concise and readable than defining a full context manager class.\n",
        "\n",
        "Let's take a look at an example of a file resource that needs to be managed:"
      ],
      "metadata": {
        "id": "gIoA6t_fW505"
      }
    },
    {
      "cell_type": "code",
      "source": [
        "def read_file(filename):\n",
        "    f = open(filename)\n",
        "    try:\n",
        "        data = f.read()\n",
        "        return data\n",
        "    finally:\n",
        "        f.close()"
      ],
      "metadata": {
        "id": "FKMAjdwHXcED"
      },
      "execution_count": 1,
      "outputs": []
    },
    {
      "cell_type": "markdown",
      "source": [
        "In this example, the file is opened, read, and then closed using a try/finally block to ensure proper cleanup. This code works fine, but it's not very readable or concise. We can use the with statement and a context manager to make this code more readable and ensure proper cleanup:"
      ],
      "metadata": {
        "id": "uGyN6lzuXnTc"
      }
    },
    {
      "cell_type": "code",
      "source": [
        "def read_file(filename):\n",
        "    with open(filename) as f:\n",
        "        data = f.read()\n",
        "        return data"
      ],
      "metadata": {
        "id": "rQAd-GLwXyxx"
      },
      "execution_count": null,
      "outputs": []
    },
    {
      "cell_type": "markdown",
      "source": [
        "This code uses the `with` statement and the built-in `open()` function to create a context manager for the file resource. The `with` statement automatically calls the `close()` method on the file object when the block of code is exited, ensuring proper cleanup even if an exception occurs.\n",
        "\n",
        "However, what if we want to define our own context manager that does something more complex than simply opening and closing a file? This is where the `@contextmanager` decorator can be very useful. Let's take a look at an example of defining a context manager using the `@contextmanager` decorator."
      ],
      "metadata": {
        "id": "tRL68XogXr8V"
      }
    },
    {
      "cell_type": "markdown",
      "source": [
        "## Solution: Writing own context managers\n",
        "\n",
        "### Version A: Creating a context manager with the with statement\n",
        "\n",
        "To create a context manager with the with statement, you need to define a class that has `__enter__()` and `__exit__()` methods. The `__enter__()` method is called when the with statement is executed, and the `__exit__()` method is called when the block of code inside the with statement is exited, whether normally or by an exception being raised.\n",
        "\n",
        "Let's take a look at an example of a context manager that measures the time taken to execute a block of code:"
      ],
      "metadata": {
        "id": "S_tBklbwY5MQ"
      }
    },
    {
      "cell_type": "code",
      "source": [
        "import time\n",
        "\n",
        "class Timer:\n",
        "    def __enter__(self):\n",
        "        self.start_time = time.time()\n",
        "        return self\n",
        "\n",
        "    def __exit__(self, exc_type, exc_value, traceback):\n",
        "        self.end_time = time.time()\n",
        "        print(f\"Elapsed time: {self.end_time - self.start_time:.3f} seconds\")"
      ],
      "metadata": {
        "id": "N5PbrGq6ZGwd"
      },
      "execution_count": 5,
      "outputs": []
    },
    {
      "cell_type": "markdown",
      "source": [
        "In this example, the Timer class defines two methods: `__enter__()` and `__exit__()`. The `__enter__()` method records the start time of the block of code to be executed. The `__exit__()` method records the end time and prints the elapsed time. This context manager can be used as follows:"
      ],
      "metadata": {
        "id": "3ioZpgs1ZOqD"
      }
    },
    {
      "cell_type": "code",
      "source": [
        "with Timer():\n",
        "    time.sleep(2)"
      ],
      "metadata": {
        "colab": {
          "base_uri": "https://localhost:8080/"
        },
        "id": "ufHBbHvGZnoj",
        "outputId": "a42b8bf5-adf6-4cd6-8b58-bcbf3cc3e281"
      },
      "execution_count": 6,
      "outputs": [
        {
          "output_type": "stream",
          "name": "stdout",
          "text": [
            "Elapsed time: 2.002 seconds\n"
          ]
        }
      ]
    },
    {
      "cell_type": "markdown",
      "source": [
        "In this code, the with statement creates a new instance of the Timer class, and executes the block of code inside the with statement. The `__exit__()` method is automatically called when the block of code is exited, whether normally or by an exception being raised."
      ],
      "metadata": {
        "id": "_skJoViaZxKC"
      }
    },
    {
      "cell_type": "markdown",
      "source": [
        "### Version B: Solution: Creating a context manager with the @contextmanager decorator\n",
        "The `@contextmanager` decorator provides a way to create a context manager using a generator function. This can be more concise and readable than defining a full context manager class.\n",
        "\n",
        "Let's take a look at how to use the `@contextmanager` decorator with the Timer example:"
      ],
      "metadata": {
        "id": "In0CsPcwZ-HG"
      }
    },
    {
      "cell_type": "code",
      "source": [
        "from contextlib import contextmanager\n",
        "import time\n",
        "\n",
        "@contextmanager\n",
        "def timer():\n",
        "    start_time = time.time()\n",
        "    yield\n",
        "    end_time = time.time()\n",
        "    print(f\"Elapsed time: {end_time - start_time:.3f} seconds\")"
      ],
      "metadata": {
        "id": "WQHASAxFZ9TY"
      },
      "execution_count": 7,
      "outputs": []
    },
    {
      "cell_type": "markdown",
      "source": [
        "In this example, the timer() function is decorated with @contextmanager. The function initializes the start time and then yields control to the block of code inside the with statement. The code inside the with statement is executed between the yield and the end of the with block. When the block is exited, the finally block is executed to print the elapsed time.\n",
        "\n",
        "This context manager can be used as follows:"
      ],
      "metadata": {
        "id": "qV-_SLp3aKAP"
      }
    },
    {
      "cell_type": "code",
      "source": [
        "with timer():\n",
        "    time.sleep(2)"
      ],
      "metadata": {
        "colab": {
          "base_uri": "https://localhost:8080/"
        },
        "id": "CMvX8HviaNWQ",
        "outputId": "5202b7ea-e7a1-414f-cef7-00afaedfa8ca"
      },
      "execution_count": 8,
      "outputs": [
        {
          "output_type": "stream",
          "name": "stdout",
          "text": [
            "Elapsed time: 2.002 seconds\n"
          ]
        }
      ]
    },
    {
      "cell_type": "markdown",
      "source": [
        "In this code, the with statement creates a new context using the timer() function. The start_time is initialized, and then the block of code inside the with statement is executed, which in this case is simply sleeping for 2 seconds. When the block is exited, the elapsed time is printed, indicating that the block took approximately 2 seconds to execute."
      ],
      "metadata": {
        "id": "rxin0lidaPom"
      }
    },
    {
      "cell_type": "markdown",
      "source": [
        "## Further use cases\n",
        "\n",
        "### Handling Exceptions\n",
        "\n",
        "One of the benefits of using a context manager is that it provides a consistent way to handle exceptions. If an exception is raised inside the block of code, the context manager's `__exit__` method will still be called, allowing you to clean up any resources that were opened in the `__enter__` method.\n",
        "\n",
        "For example, let's say you have a function that reads a file and returns its contents:"
      ],
      "metadata": {
        "id": "6eaBEF2laqxC"
      }
    },
    {
      "cell_type": "code",
      "source": [
        "def read_file(filename):\n",
        "    with open(filename, 'r') as f:\n",
        "        return f.read()"
      ],
      "metadata": {
        "id": "t-LMPasba3da"
      },
      "execution_count": null,
      "outputs": []
    },
    {
      "cell_type": "markdown",
      "source": [
        "If an exception is raised while reading the file, the with statement will automatically close the file handle, preventing any resource leaks."
      ],
      "metadata": {
        "id": "I7GJPMcna7pE"
      }
    },
    {
      "cell_type": "markdown",
      "source": [
        "### Database Connections\n",
        "When working with databases, it's important to manage connections properly to avoid resource leaks and ensure data consistency. The `with` statement can be used to ensure that connections are properly closed and any changes are committed to the database.\n",
        "\n",
        "Here's an example using the `sqlite3` module:"
      ],
      "metadata": {
        "id": "8oB8RyrOa-JE"
      }
    },
    {
      "cell_type": "code",
      "source": [
        "import sqlite3\n",
        "\n",
        "class Database:\n",
        "    def __init__(self, filename):\n",
        "        self.filename = filename\n",
        "\n",
        "    def __enter__(self):\n",
        "        self.conn = sqlite3.connect(self.filename)\n",
        "        return self.conn.cursor()\n",
        "\n",
        "    def __exit__(self, exc_type, exc_value, traceback):\n",
        "        self.conn.commit()\n",
        "        self.conn.close()\n",
        "\n",
        "with Database('example.db') as cursor:\n",
        "    cursor.execute(\"CREATE TABLE IF NOT EXISTS test (id INTEGER PRIMARY KEY, name TEXT)\")\n",
        "    cursor.execute(\"INSERT INTO test (name) VALUES ('Alice')\")"
      ],
      "metadata": {
        "id": "9_gGXwt4a6un"
      },
      "execution_count": null,
      "outputs": []
    },
    {
      "cell_type": "markdown",
      "source": [
        "In this example, we define a `Database` class that creates a connection to an SQLite database in the `__enter__` method and returns a cursor object. In the `__exit__` method, we commit any changes to the database and close the connection. The with statement is used to create a new context and execute some SQL commands using the cursor."
      ],
      "metadata": {
        "id": "kmdLMVxCbLJT"
      }
    },
    {
      "cell_type": "markdown",
      "source": [
        "### Threading Locks\n",
        "When working with multithreaded code, it's important to manage locks to avoid race conditions and other issues. The with statement can be used to acquire and release locks in a thread-safe manner.\n",
        "\n",
        "Here's an example using the `threading` module:"
      ],
      "metadata": {
        "id": "zaU8n69pbSPJ"
      }
    },
    {
      "cell_type": "code",
      "source": [
        "import threading\n",
        "\n",
        "lock = threading.Lock()\n",
        "\n",
        "def increment_counter():\n",
        "    with lock:\n",
        "        global counter\n",
        "        counter += 1\n",
        "\n",
        "counter = 0\n",
        "threads = [threading.Thread(target=increment_counter) for i in range(10)]\n",
        "\n",
        "for t in threads:\n",
        "    t.start()\n",
        "\n",
        "for t in threads:\n",
        "    t.join()\n",
        "\n",
        "print(counter) # Output: 10"
      ],
      "metadata": {
        "colab": {
          "base_uri": "https://localhost:8080/"
        },
        "id": "s0yPHFyCbeLG",
        "outputId": "1a86e8b2-92bc-4152-c012-3cf26fe32cdf"
      },
      "execution_count": 9,
      "outputs": [
        {
          "output_type": "stream",
          "name": "stdout",
          "text": [
            "10\n"
          ]
        }
      ]
    },
    {
      "cell_type": "markdown",
      "source": [
        "In this example, we define a global counter variable and a lock object. The `increment_counter()` function is defined to increment the counter in a thread-safe manner using the `with` statement to acquire and release the lock. We create 10 threads that call this function, and then wait for all the threads to complete. Finally, we print the value of the counter, which should be 10."
      ],
      "metadata": {
        "id": "fFCO_aUFbiuU"
      }
    },
    {
      "cell_type": "markdown",
      "source": [
        "## Summary\n",
        "In this article, we learned about using the `with` statement and the `@contextmanager` decorator to create context managers in Python. Context managers are a powerful tool for managing resources, such as file handles, database connections, and locks, and ensure that they are properly cleaned up when they are no longer needed.\n",
        "\n",
        "We started by introducing the concept of context managers and how they can be used to manage resources in a safe and efficient manner. We then explored two ways of creating context managers in Python: using the `with` statement with `__enter__` and `__exit__` methods, and using the `@contextmanager` decorator with generator functions.\n",
        "\n",
        "I demonstrated how to create a context manager using both approaches, and compared their strengths and weaknesses. We also explored some further use cases for context managers, including handling exceptions, managing database connections, and working with threading locks.\n",
        "\n",
        "By understanding how to use context managers effectively in Python, you can improve the safety and reliability of your code, and avoid common pitfalls such as resource leaks and race conditions."
      ],
      "metadata": {
        "id": "_k79wu7sbor0"
      }
    }
  ]
}